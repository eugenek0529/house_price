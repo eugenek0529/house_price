{
 "cells": [
  {
   "cell_type": "markdown",
   "id": "02cbe08a",
   "metadata": {},
   "source": [
    "# House Price Project"
   ]
  },
  {
   "cell_type": "markdown",
   "id": "72e1ffd6",
   "metadata": {},
   "source": [
    "Eugene Kim\teugenekim@cpp.edu / eugenek0529@gmail.com\n",
    "\n",
    "Brandon Tang brandontang1@cpp.edu / brantang905@gmail.com \n",
    "\n",
    "Sanat Vankayalapati sanatv@cpp.edu / sanatvan@gmail.com"
   ]
  },
  {
   "cell_type": "code",
   "execution_count": null,
   "id": "a8f6a386",
   "metadata": {},
   "outputs": [],
   "source": []
  }
 ],
 "metadata": {
  "kernelspec": {
   "display_name": "Python 3",
   "language": "python",
   "name": "python3"
  },
  "language_info": {
   "codemirror_mode": {
    "name": "ipython",
    "version": 3
   },
   "file_extension": ".py",
   "mimetype": "text/x-python",
   "name": "python",
   "nbconvert_exporter": "python",
   "pygments_lexer": "ipython3",
   "version": "3.8.8"
  }
 },
 "nbformat": 4,
 "nbformat_minor": 5
}
